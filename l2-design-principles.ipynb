{
 "cells": [
  {
   "cell_type": "markdown",
   "id": "768ae7d2",
   "metadata": {},
   "source": [
    "### The lessons communicating with data\n",
    "\n",
    "six lessons of communicating with data:\n",
    "\n",
    "- Understand the context - this means knowing your audience and conveying a clear message about what you want your audience to know or do with the information you are providing.\n",
    "- Choose an appropriate visual display - this was covered in the last lesson. Check out the lesson titled recap in the previous section if you need a quick refresher.\n",
    "- Eliminate clutter - you should only provide information to the user that helps convey your message.\n",
    "- Focus attention where you want it - build visualizations that pull attention to the message you want to highlight.\n",
    "- Think like a designer - you will learn a number of design principles in this lesson to assist as you start to put together your own data visualizations.\n",
    "- Tell a story - your visualizations should give the audience a story. The most powerful data visualizations move people to take action.\n",
    "\n",
    "![](images\\Data-storytelling-lessons.png)"
   ]
  },
  {
   "cell_type": "markdown",
   "id": "c6d6c93c",
   "metadata": {},
   "source": []
  }
 ],
 "metadata": {
  "language_info": {
   "name": "python"
  }
 },
 "nbformat": 4,
 "nbformat_minor": 5
}
