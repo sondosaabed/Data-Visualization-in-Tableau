{
 "cells": [
  {
   "cell_type": "markdown",
   "id": "768ae7d2",
   "metadata": {},
   "source": [
    "### The lessons communicating with data\n",
    "\n",
    "six lessons of communicating with data:\n",
    "\n",
    "- Understand the context - this means knowing your audience and conveying a clear message about what you want your audience to know or do with the information you are providing.\n",
    "- Choose an appropriate visual display - this was covered in the last lesson. Check out the lesson titled recap in the previous section if you need a quick refresher.\n",
    "- Eliminate clutter - you should only provide information to the user that helps convey your message.\n",
    "- Focus attention where you want it - build visualizations that pull attention to the message you want to highlight.\n",
    "- Think like a designer - you will learn a number of design principles in this lesson to assist as you start to put together your own data visualizations.\n",
    "- Tell a story - your visualizations should give the audience a story. The most powerful data visualizations move people to take action.\n",
    "\n",
    "![](images\\Data-storytelling-lessons.png)"
   ]
  },
  {
   "cell_type": "markdown",
   "id": "c6d6c93c",
   "metadata": {},
   "source": [
    "### here are two main reasons for creating visuals using data:\n",
    "\n",
    "- Exploratory analysis is done when you are searching for insights. These visualizations don't need to be perfect. You are using plots to find insights, but they don't need to be aesthetically appealing. You are the consumer of these plots, and you need to be able to find the answer to your questions from these plots.\n",
    "- Explanatory analysis is done when you are providing your results for others. These visualizations need to provide you the emphasis necessary to convey your message. They should be accurate, insightful, and visually appealing.\n",
    "\n",
    "### The five steps of the data analysis process:\n",
    "\n",
    "- Extract - Obtain the data from a spreadsheet, SQL, the web, etc.\n",
    "- Clean - Here we could use exploratory visuals.\n",
    "- Explore - Here we use exploratory visuals.\n",
    "- Analyze - Here we might use either exploratory or explanatory visuals.\n",
    "- Share - Here is where explanatory visuals live."
   ]
  },
  {
   "cell_type": "markdown",
   "id": "859a0e2d",
   "metadata": {},
   "source": []
  }
 ],
 "metadata": {
  "language_info": {
   "name": "python"
  }
 },
 "nbformat": 4,
 "nbformat_minor": 5
}
