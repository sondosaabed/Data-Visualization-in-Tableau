{
 "cells": [
  {
   "cell_type": "markdown",
   "id": "5d9a19e8",
   "metadata": {},
   "source": [
    "## Data Visualization Fundamentals\n",
    "\n",
    "### Univariate\n",
    "For quantitative data, if we are just looking at one column worth of data, we have four common visuals:\n",
    "- Histogram\n",
    "- Normal Quantile Plot\n",
    "- Stem and Leaf Plot\n",
    "- Box and Whisker Plot\n",
    "\n",
    "In most cases, you will want to use a histogram.\n",
    "\n",
    "For categorical data, if we are looking at just one variable (column), we have three common visuals:\n",
    "- Bar Chart\n",
    "- Pie Chart\n",
    "- Pareto Chart\n",
    "\n",
    "In most cases, you will want to use a bar chart.\n",
    "\n",
    "### Correlation Coefficients\n",
    "\n",
    "Correlation coefficients provide a measure of the strength and direction of a linear relationship.\n",
    "\n",
    "We can tell the direction based on whether the correlation is positive or negative.\n",
    "\n",
    "A rule of thumb for judging the strength:\n",
    "\n",
    "- Strong: 0.7≤∣r∣≤1.00.7≤∣r∣≤1.0\n",
    "- Moderate: 0.3≤∣r∣<0.70.3≤∣r∣<0.7\n",
    "- Weak: 0.0≤∣r∣<0.30.0≤∣r∣<0.3\n",
    "\n",
    "### Line Plots\n",
    "\n",
    "Line plots are a common plot for viewing data over time. These plots allow us to quickly identify overall trends, seasonal occurrences, peaks, and valleys in the data. You will commonly see these used in looking at stock prices over time, but really tracking anything over time can be easily viewed using these plots.\n",
    "\n",
    "### Summary\n",
    "\n",
    "In this lesson:\n",
    "\n",
    "- You motivated the need for data visualization by showing that summary statistics don't tell the full story. You saw datasets where the summary statistics were the same, but the actual data were very different!\n",
    "- You did a review of data types. In general there are quantitative and categorical variables. Quantitative variables can be either discrete or continuous, while categorical variables are either ordinal or nominal.\n",
    "- You looked at univariate plots. In most cases a histogram should be used for quantitative data, while a bar chart should be used for categorical data. There are some cases where you might use one of the other plots.\n",
    "- You then looked at bivariate plots, where you were comparing two variables to one another. Scatter plots are the most common way to visualize two quantitative variables, while a line chart is common for data that you are watching over time. If you are comparing two categorical variables, the best choice is probably a side-by-side bar chart.\n",
    "- You learned about correlation coefficients, which provide the strength and direction of linear relationships. You learned a rule of thumb for determining whether the relationship between two quantitative variables is strong, moderate, or weak.\n",
    "- You then looked at cases where we had more than two variables. You learned that using these plots effectively is about building the plot that helps you see the insight that answers the question you have.\n",
    "- You gained some insight into visual encodings and data dashboards, which will be a part of the next lessons!"
   ]
  },
  {
   "cell_type": "markdown",
   "id": "d9a48d44",
   "metadata": {},
   "source": [
    "![](images/multiple-vars-plot.png)"
   ]
  }
 ],
 "metadata": {
  "language_info": {
   "name": "python"
  }
 },
 "nbformat": 4,
 "nbformat_minor": 5
}
