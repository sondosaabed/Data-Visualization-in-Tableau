{
 "cells": [
  {
   "cell_type": "markdown",
   "id": "0a01e970",
   "metadata": {},
   "source": [
    "## Topics Covered\n",
    "\n",
    "There are a lot of ways you can interact with data using Tableau. This lesson is going to cover A LOT of information. Don't worry if you don't memorize where everything is stored. The goal is to gain familiarity with Tableau so you aren't afraid to explore beyond the course materials on your own.\n",
    "\n",
    "Even the below summary might seem overwhelming. It is just here to assist as a nice template of what is to come. Don't worry if you don't follow it all right now. That is what this lesson is for!\n",
    "\n",
    "With that, here are the areas this lesson will cover:\n",
    "### I. Connecting to Data\n",
    "\n",
    "In this section, you will get started with importing data into Tableau. Tableau public has fewer options, but paid versions of Tableau are quite extensive, connecting directly to databases and cloud-based data storage systems.\n",
    "### II. Worksheets\n",
    "\n",
    "The visuals you create will be stored in worksheets.\n",
    "### III. Aggregations\n",
    "\n",
    "Tableau performs aggregations of our data by default. In this section, you will learn more about how to work with different aggregations and break your aggregations into a more granular level of data.\n",
    "### IV. Hierarchies\n",
    "\n",
    "Hierarchies allow you to 'drill' into your data and questions at different levels. One of the easiest ways to think of hierarchies is in relation to time. You could look at your data at a year, month, day, hour, or another level. Moving across these levels is considered working with hierarchies.\n",
    "\n",
    "You can also perform hierarchical calculations in other ways. Imagine you have different companies with different departments and teams within those departments. This creates a hierarchy that you might want to analyze at different levels.\n",
    "### V. Marks & Filters\n",
    "\n",
    "Filtering is one of the most powerful techniques in creating dashboards. This relates to the marks portion of a dashboard, which controls the colors, shapes and other attributes of our data. You can think of this as a WHERE statement in SQL that filters your data to only the parts you are interested in for a specific question.\n",
    "### VI. Show Me\n",
    "\n",
    "The Show Me portion of Tableau controls what your ending visual looks like. There are a lot of options here. In most cases, Tableau will guess what visual you want to create, but sometimes, you might have your own ideas for implementation.\n",
    "### VII. Small Multiples & Dual Axis\n",
    "\n",
    "Small multiples & dual charts are a way to visualize data that needs to share an axis for comparison purposes. Here are two great articles for explaining how these Tableau features work and when you might use them.\n",
    "\n",
    "- Evoltics: How to Make Small Multiples(opens in a new tab)\n",
    "- Tableau: Creating an Overlapped Bar Chart(opens in a new tab)\n",
    "\n",
    "### VIII. Groups & Sets\n",
    "\n",
    "Groups and sets are two ways to categorize our data within a visualization. The difference between these two can be confusing, but we will see when and why you would use each.\n",
    "### IX. Calculated Fields\n",
    "\n",
    "Often, you might add these fields to your dataset before adding your data to Tableau, but sometimes, you want to add them to a visualization on the fly. Many of these calculated fields are things you have probably done in a spreadsheet application, like finding a total or a cost per item.\n",
    "### X. Table Calculations\n",
    "\n",
    "Table calculations are often used to perform comparisons of our data over time or between groups. A great article on table calculations is available here: Tableau: Top 10 Tableau table calculations(opens in a new tab).\n",
    "### XI. Combining Data\n",
    "\n",
    "In this section, you will learn how to connect data from multiple sources for use in your visuals. This section should be second nature if you are comfortable with SQL joins.\n",
    "### Final Thoughts\n",
    "\n",
    "Again, don't worry if this seems daunting right now. Use this as a resource for what to Google if you get stuck (as the headings are the names Tableau uses - for example, Tableau Table Calculations will provide more information on the final part we will discuss) and also as a guide for what will come!"
   ]
  },
  {
   "cell_type": "markdown",
   "id": "89103694",
   "metadata": {},
   "source": []
  }
 ],
 "metadata": {
  "language_info": {
   "name": "python"
  }
 },
 "nbformat": 4,
 "nbformat_minor": 5
}
